{
 "cells": [
  {
   "cell_type": "code",
   "execution_count": 31,
   "id": "f4c6e3e8",
   "metadata": {},
   "outputs": [],
   "source": [
    "## Idea\n",
    "# 1. The idea is to record voice for all the words in a text corpus and play each words for a new given \n",
    "# sequence of text. \n",
    "# 2. Each word is governed by a pronounciation vector that contains the way to pronouce the word. That means \n",
    "# how to change a few parameters of that small audio chunk (pre-recorded word) so that the new word would match\n",
    "# the pronounciations of the sequence and would sound like real human speaking.\n",
    "\n",
    "# The process is going to be carried out for Hindi Language and all the words is going to spoken by myself.\n"
   ]
  },
  {
   "cell_type": "code",
   "execution_count": 32,
   "id": "ab023fdd",
   "metadata": {},
   "outputs": [],
   "source": [
    "# Here are the examples of a few sentece that will build up our text-corpus. \n",
    "\n",
    "# 1. d m i faeneans me ap ka swagat hae .\n",
    "# 2. lon sambandhit jankari ke liye ek dabaen .\n",
    "# 3. naya khata khol ne ke liye do dabaen .\n",
    "# 4. hamare grahak seva pratinidhi se baat karne ke liye teen dabaen .\n",
    "# 5. yatri gan kripaya dhyan den , gadi sankshaya sat panch nau ek sunya do , hazrat nizanumdin express, \n",
    "# pletform number char par thode hi der men aa rahi hae .\n"
   ]
  },
  {
   "cell_type": "code",
   "execution_count": 33,
   "id": "e1633a62",
   "metadata": {},
   "outputs": [
    {
     "name": "stdout",
     "output_type": "stream",
     "text": [
      "\n",
      " d m i faeneans me ap ka swagat hae . \n",
      " lon sambandhit jankari ke liye ek dabaen . \n",
      " naya khata khol ne ke liye do dabaen . \n",
      " hamare grahak seva pratinidhi se baat karne ke liye teen dabaen .\n",
      " yatri gan kripaya dhyan den , gadi sankshaya sat panch nau ek sunya do , hazrat nizanumdin express , \n",
      " pletform number char par thode hi der men aa rahi hae .\n",
      "\n"
     ]
    }
   ],
   "source": [
    "# Now let's find all the unique words in the text corpus.\n",
    "\n",
    "text_corpus = '''\n",
    " d m i faeneans me ap ka swagat hae . \n",
    " lon sambandhit jankari ke liye ek dabaen . \n",
    " naya khata khol ne ke liye do dabaen . \n",
    " hamare grahak seva pratinidhi se baat karne ke liye teen dabaen .\n",
    " yatri gan kripaya dhyan den , gadi sankshaya sat panch nau ek sunya do , hazrat nizanumdin express , \n",
    " pletform number char par thode hi der men aa rahi hae .\n",
    "'''\n",
    "print(text_corpus)\n"
   ]
  },
  {
   "cell_type": "code",
   "execution_count": 35,
   "id": "f019c4cf",
   "metadata": {},
   "outputs": [
    {
     "name": "stdout",
     "output_type": "stream",
     "text": [
      "56\n",
      "{'', 'hae', 'liye', 'karne', 'gadi', 'se', 'express', 'thode', 'ek', 'do', 'dhyan', 'baat', 'm', 'den', ',', 'hi', 'pletform', 'panch', 'khol', 'rahi', 'me', 'jankari', 'sankshaya', 'seva', 'number', 'pratinidhi', 'men', 'kripaya', 'd', 'grahak', '.', 'sambandhit', 'hazrat', 'ne', 'ke', 'khata', 'lon', 'ka', 'teen', 'par', 'sunya', 'sat', 'der', 'nau', 'dabaen', 'naya', 'aa', 'yatri', 'swagat', 'gan', 'faeneans', 'ap', 'i', 'nizanumdin', 'hamare', 'char'}\n"
     ]
    }
   ],
   "source": [
    "# Now we need to remove any new line.\n",
    "text_corpus_m = text_corpus.replace('\\n', '')\n",
    "# print(text_corpus_m)\n",
    "\n",
    "# Converting all the text to a list.\n",
    "text_corpus_list = text_corpus_m.split(' ')\n",
    "# print(text_corpus_list)\n",
    "\n",
    "# Finding the unique words.\n",
    "text_corpus_set = set(text_corpus_list)\n",
    "print(len(text_corpus_set))\n",
    "print(text_corpus_set)\n",
    "\n",
    "# Here an unique thing is that comman ',', period '.' and blank space ' ' are also considered as individual\n",
    "# words and having their own voice chinks assigned to them.\n"
   ]
  },
  {
   "cell_type": "code",
   "execution_count": 45,
   "id": "799f7b83",
   "metadata": {},
   "outputs": [],
   "source": [
    "# Now all we need to do is that record all these 56  words and by self and save all these in folder.\n",
    "\n",
    "# Let's save all these words in a text file. \n",
    "# f = open('words.txt', 'w')\n",
    "\n",
    "# for index, word in enumerate(text_corpus_set):\n",
    "#     f.write(str(index) + '. ' + word + '\\n')\n",
    "   \n",
    "# f.close()\n"
   ]
  },
  {
   "cell_type": "code",
   "execution_count": 46,
   "id": "eb3187cf",
   "metadata": {},
   "outputs": [
    {
     "name": "stdout",
     "output_type": "stream",
     "text": [
      "0. \n",
      "1. hae\n",
      "2. liye\n",
      "3. karne\n",
      "4. gadi\n",
      "5. se\n",
      "6. express\n",
      "7. thode\n",
      "8. ek\n",
      "9. do\n",
      "10. dhyan\n",
      "11. baat\n",
      "12. m\n",
      "13. den\n",
      "14. ,\n",
      "15. hi\n",
      "16. pletform\n",
      "17. panch\n",
      "18. khol\n",
      "19. rahi\n",
      "20. me\n",
      "21. jankari\n",
      "22. sankshaya\n",
      "23. seva\n",
      "24. number\n",
      "25. pratinidhi\n",
      "26. men\n",
      "27. kripaya\n",
      "28. d\n",
      "29. grahak\n",
      "30. .\n",
      "31. sambandhit\n",
      "32. hazrat\n",
      "33. ne\n",
      "34. ke\n",
      "35. khata\n",
      "36. lon\n",
      "37. ka\n",
      "38. teen\n",
      "39. par\n",
      "40. sunya\n",
      "41. sat\n",
      "42. der\n",
      "43. nau\n",
      "44. dabaen\n",
      "45. naya\n",
      "46. aa\n",
      "47. yatri\n",
      "48. swagat\n",
      "49. gan\n",
      "50. faeneans\n",
      "51. ap\n",
      "52. i\n",
      "53. nizanumdin\n",
      "54. hamare\n",
      "55. char\n",
      "\n"
     ]
    }
   ],
   "source": [
    "# Now let's open our text file and read all the words.\n",
    "f = open('words.txt', 'r')\n",
    "f_content = f.read()\n",
    "print(f_content)\n"
   ]
  },
  {
   "cell_type": "code",
   "execution_count": null,
   "id": "b0e7dbc2",
   "metadata": {},
   "outputs": [],
   "source": [
    "# Now it's time split all the words and save them as index.\n",
    "# A full stop is going to be 500 ms. A comma is going to be 250 ms. a blank space is going to be 100 ms.\n",
    "\n",
    "\n"
   ]
  },
  {
   "cell_type": "code",
   "execution_count": null,
   "id": "c788b518",
   "metadata": {},
   "outputs": [],
   "source": []
  },
  {
   "cell_type": "code",
   "execution_count": null,
   "id": "1054bc06",
   "metadata": {},
   "outputs": [],
   "source": []
  },
  {
   "cell_type": "code",
   "execution_count": null,
   "id": "175dab3c",
   "metadata": {},
   "outputs": [],
   "source": []
  },
  {
   "cell_type": "code",
   "execution_count": null,
   "id": "1f4cf005",
   "metadata": {},
   "outputs": [],
   "source": []
  },
  {
   "cell_type": "code",
   "execution_count": null,
   "id": "e05eda71",
   "metadata": {},
   "outputs": [],
   "source": []
  },
  {
   "cell_type": "code",
   "execution_count": null,
   "id": "0a26d9fa",
   "metadata": {},
   "outputs": [],
   "source": []
  },
  {
   "cell_type": "code",
   "execution_count": null,
   "id": "dcd47726",
   "metadata": {},
   "outputs": [],
   "source": []
  },
  {
   "cell_type": "code",
   "execution_count": null,
   "id": "d771cc1e",
   "metadata": {},
   "outputs": [],
   "source": []
  },
  {
   "cell_type": "code",
   "execution_count": null,
   "id": "6c71d6d6",
   "metadata": {},
   "outputs": [],
   "source": []
  },
  {
   "cell_type": "code",
   "execution_count": null,
   "id": "d395c1b1",
   "metadata": {},
   "outputs": [],
   "source": []
  }
 ],
 "metadata": {
  "kernelspec": {
   "display_name": "Python 3 (ipykernel)",
   "language": "python",
   "name": "python3"
  },
  "language_info": {
   "codemirror_mode": {
    "name": "ipython",
    "version": 3
   },
   "file_extension": ".py",
   "mimetype": "text/x-python",
   "name": "python",
   "nbconvert_exporter": "python",
   "pygments_lexer": "ipython3",
   "version": "3.8.10"
  }
 },
 "nbformat": 4,
 "nbformat_minor": 5
}
