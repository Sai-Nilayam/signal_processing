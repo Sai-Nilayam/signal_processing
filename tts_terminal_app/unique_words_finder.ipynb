{
 "cells": [
  {
   "cell_type": "code",
   "execution_count": 7,
   "id": "d72830fa",
   "metadata": {},
   "outputs": [
    {
     "name": "stdout",
     "output_type": "stream",
     "text": [
      "{'policy', 'might', 'days', 'valuable', 'four', 'requested', 'actual', 'begin', 'emis', 'respond', 'get', 'busy', 'will', 'case', 'timer', 'pre', 'm', 'hello', 'message', 'try', 'updated', 'loannumber', 'facing', 'assure', 'i', 'alright', 'due', 'emiduedate', 'eligible', 'contact', 'receive', 'or', 'cycle', 'automatically', 'remove', 'we', 'there', 'ahead', 'removed', 'understood', 'etcetera', 'process', 'ivr', 'proper', 'place', 'loaning', 'dmi', 'while', 'shared', 'regarding', 'changed', 'sim', 'transfer', 'seem', 'who', 'different', 'november', 'address', 'acquiring', 'offering', 'modes', 'initiated', 'present', 'bank', 'excellent', 'starting', 'servicetype', 'some', 'willing', 'tried', 'when', 'call', 'put', 'this', 'th', 'not', 'alternatively', 'finance', 'fore', 'what', 'immediately', 'been', 'maximum', 'non', 'accordingly', 'gesture', 'did', 'ends', 'email', 'penal', 'could', 'part', 'reach', 'emiamount', 'dealer', 'via', 'processing', 'acceptable', 'esteemed', 'just', 'an', 'ensure', 'rupees', 'thank', 'monthly', 'pleasure', 'kindly', 'quick', 'levied', 'ohh', 'approved', 'told', 'half', 'beep', 'repeat', 'adjusted', 'loantenure', 'end', 'hit', 'paytm', 'period', 'wish', 'past', 'speak', 'determined', 'that', 'customers', 'select', 'followed', 'press', 'also', 'closed', 'high', 'well', 'suggest', 'previous', 'digits', 'hour', 'upgraded', 'access', 'loans', 'verify', 'plus', 'closure', 'order', 'format', 'then', 'helping', 'pan', 'chat', 'entered', 'preclosurechargedamount', 'hrs', 'changes', 'here', 'be', 'problem', 'assistance', 'only', 'setting', 'at', 'welcome', 'stable', 'example', 'amout', 'dueamount', 'our', 'however', 'sanctioned', 'and', 'switch', 'unable', 'mail', 'un', 'outstanding', 'noc', 'us', 'time', 'dob', 'within', 'submit', 'subject', 'show', 'through', 'information', 'selfie', 'shortly', 'start', 'leadsource', 'by', 'disbursement', 'more', 'see', 'deactivate', 'topup', 'unlocking', 'transactions', 'date', 'reason', 'hours', 'upcoming', 'slot', 'based', 'from', 'connection', 'was', 'you', 'bounce', 'application', 'team', 'detail', 'taking', 'confirmation', 'dmifinance', 'pay', 'against', 'seems', 'technical', 'other', 'watch', 'connecting', 'profile', 'ask', 'tech', 'happy', 'provide', 'today', 'active', 'valid', 'extra', 'query', 'me', 'completed', 'shown', 'procedure', 'better', 'still', 'aquire', 'resolved', 'going', 'looks', 'maturitydate', 'nearest', 'if', 'difficulty', 'have', 'track', 'avoid', 'session', 'tomorrow', 'loan', 'matured', 'month', 'birthday', 'after', 'up', 'off', 'outstandingprincipal', 'months', 'partnername', 'incurred', 'do', 'can', 'directly', 'partners', 'input', 'standards', 'amount', 'proceed', 'aadhar', 'register', 'dues', 'back', 'principal', 'agent', 'true', 'morning', 'd', 'check', 'kyc', 'mask', 'calls', 'now', 'background', 'totalbouncedue', 're', 'special', 'linking', 'handset', 'sent', 'any', 'wonderfull', 'are', 'click', 'birth', 'documents', 'may', 'document', 'provided', 'competitive', 'app', 'payments', 'officer', 'evening', 'new', 'like', 'mention', 'account', 'letting', 'loanamount', 'centre', 'internet', 'give', 'good', 'inform', 'come', 'caused', 'restart', 'validity', 'logs', 'portal', 'payment', 'because', 'loansource', 'service', 'the', 'download', 'unfortunately', 'admin', 'given', 'which', 'assist', 'otherwise', 'no', 'inconvenience', 'partner', 'history', 'credit', 'persists', 'locking', 'totalpenaldue', 'on', 'concern', 'currently', 'multiple', 'locked', 'confirming', 'hence', 'september', 'phone', 'follow', 'your', 'registered', 'a', 'write', 'span', 'attempts', 'tell', 'upload', 'software', 'wait', 'behalf', 'registering', 'statement', 'promisedate', 'received', 'share', 'use', 'otp', 'addition', 'for', 'even', 'gateway', 'another', 'biometric', 'taken', 'confirm', 'waiting', 'dates', 'once', 'disbursal', 'dear', 'data', 'available', 'all', 'tap', 'paid', 'working', 'out', 'last', 'hold', 'screen', 'system', 'were', 'excesspayment', 'disbursaldate', 'giving', 'should', 'in', 'ending', 'two', 'letter', 'change', 'jio', 'yes', 'send', 'benefits', 'e', 'serving', 'executives', 'flexible', 'changing', 'connected', 's', 'rs', 'without', 'keep', 'queries', 'one', 'answered', 'day', 'latter', 'verification', 'totaldueamount', 'empty', 'about', 'great', 'issue', 'visit', 'wishes', 'want', 'paymentdate', 'complete', 'ported', 'video', 'standard', 'purely', 'open', 'informed', 'auto', 'help', 'able', 'apologise', 'wear', 'cannot', 'white', 'using', 'expires', 'channel', 'waiver', 'thanks', 'rate', 'had', 'sending', 'issues', 'already', 'every', 'unlocked', 'talk', 'per', 'market', 'total', 'clearance', 'before', 'transferring', 'id', 'hi', 'connect', 'option', 'emi', 'operator', 'xxxx', 'physical', 'y', 'registerd', 'deducted', 'menu', 'understand', 'visual', 'credited', 'invalid', 'proceeed', 'security', 'company', 'verifying', 'offers', 'caller', 'status', 'incoming', 'go', 'has', 'deduction', 'let', 'pending', 'tab', 'find', 'few', 'facility', 'as', 'sms', 'resolution', 'www', 'sure', 'such', 'it', 'afternoon', 'disbursed', 'insert', 'eery', 'yyyy', 'refreshing', 'to', 'settings', 'mobile', 'samsung', 'used', 'future', 'sorry', 'interest', 'continue', 'note', 'feature', 'does', 'is', 'during', 'again', 'standing', 'digit', 'debited', 'dot', 'with', 'set', 'called', 'executive', 'prices', 'nach', 'chatbot', 'mm', 'totalamount', 'than', 'how', 'lock', 'chance', 'current', 'need', 'october', 'details', 'make', 'reflect', 'bot', 'secure', 'hassles', 'charges', 'offer', 'so', 'next', 'completing', 'yet', 'but', 'incorrect', 'resolve', 'short', 'year', 'inquire', 'same', 'touch', 'talking', 'doing', 'please', 'listening', 'options', 'till', 'very', 'website', 'far', 'dd', 'number', 'interestrate', 'clear', 'am', 'view', 'update', 'of', 'records', 'maturity', 'else', 'link', 'escalate', 'say', 'take', 'personal', 'post', 'device', 'would', 'further', 'calling', 'care', 'enter', 'operational', 'sometime', 'request', 'know', 'unlock', 'correct', 'paise', 'customer', 'tenure', 'progress', 'debit'}\n",
      "\n"
     ]
    }
   ],
   "source": [
    "\n",
    "def unique_words_finder(txt_file_path):\n",
    "    f = open(txt_file_path)\n",
    "    content = f.read()\n",
    "    f.close()\n",
    "\n",
    "    # Removing characters except aphabets.\n",
    "    discard_set = [\n",
    "        '`', '~', '!', '@', '#', '$', '%', '^', '&', '*', '(', ')', '-', '_', '=', '+',\n",
    "        '[', '{', ']', '}', '\\\\', '|',\n",
    "        ';', ':', \"'\", '\"',\n",
    "        ',', '<', '.', '>', '/', '?',\n",
    "        '\\n',\n",
    "        '0', '1', '2', '3', '4', '5', '6', '7', '8', '9',\n",
    "    ]\n",
    "\n",
    "    for character in content:\n",
    "        if character in discard_set:\n",
    "            content = content.replace(character, ' ')\n",
    "\n",
    "    # Converting everything to lowercase. \n",
    "    content = content.lower()\n",
    "\n",
    "    # Splitting the content by blank space ' '.\n",
    "    content_ar = content.split(' ')\n",
    "\n",
    "    # Stripping all the extra spaces around from the words.\n",
    "    for i in range(len(content_ar)):\n",
    "        inst_word = content_ar[i]\n",
    "        inst_word = inst_word.strip()\n",
    "        content_ar[i] = inst_word\n",
    "\n",
    "    # Removing all the duplicate entires form the array.;\n",
    "    content_set = set(content_ar)\n",
    "\n",
    "    # Removing the space ' ' and the blank  '' charater.\n",
    "    content_set.remove('')\n",
    "    \n",
    "    return content_set\n",
    "\n",
    "# Using the function.\n",
    "txt_file_path = 'data/i_18_messages.txt'\n",
    "unique_words_set = unique_words_finder(txt_file_path)\n",
    "print(unique_words_set)\n",
    "print()\n"
   ]
  },
  {
   "cell_type": "code",
   "execution_count": null,
   "id": "230ec367",
   "metadata": {},
   "outputs": [],
   "source": []
  },
  {
   "cell_type": "code",
   "execution_count": null,
   "id": "a2449852",
   "metadata": {},
   "outputs": [],
   "source": []
  }
 ],
 "metadata": {
  "kernelspec": {
   "display_name": "Python 3 (ipykernel)",
   "language": "python",
   "name": "python3"
  },
  "language_info": {
   "codemirror_mode": {
    "name": "ipython",
    "version": 3
   },
   "file_extension": ".py",
   "mimetype": "text/x-python",
   "name": "python",
   "nbconvert_exporter": "python",
   "pygments_lexer": "ipython3",
   "version": "3.8.10"
  }
 },
 "nbformat": 4,
 "nbformat_minor": 5
}
