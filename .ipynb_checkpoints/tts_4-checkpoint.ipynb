{
 "cells": [
  {
   "cell_type": "code",
   "execution_count": null,
   "id": "75890f31",
   "metadata": {},
   "outputs": [],
   "source": [
    "# Here we are going to use Generative modelling to generate beautyful sounds of different sounds by frist making a \n",
    "# distribution using a bunch of smaples and then take a new sample from that Gaussian Distribution with a very \n",
    "# little Standard Deviation. First we are going to do that for images and then we will be doing that for sounds.   \n"
   ]
  },
  {
   "cell_type": "code",
   "execution_count": null,
   "id": "78b1fc7b",
   "metadata": {},
   "outputs": [],
   "source": [
    "# Let's join something for 8 words.\n",
    "\n"
   ]
  }
 ],
 "metadata": {
  "kernelspec": {
   "display_name": "Python 3 (ipykernel)",
   "language": "python",
   "name": "python3"
  },
  "language_info": {
   "codemirror_mode": {
    "name": "ipython",
    "version": 3
   },
   "file_extension": ".py",
   "mimetype": "text/x-python",
   "name": "python",
   "nbconvert_exporter": "python",
   "pygments_lexer": "ipython3",
   "version": "3.8.10"
  }
 },
 "nbformat": 4,
 "nbformat_minor": 5
}
