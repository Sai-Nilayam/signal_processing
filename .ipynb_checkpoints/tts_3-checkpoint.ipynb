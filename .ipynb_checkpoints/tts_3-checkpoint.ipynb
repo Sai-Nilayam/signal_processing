{
 "cells": [
  {
   "cell_type": "code",
   "execution_count": 1,
   "id": "86c4444b",
   "metadata": {},
   "outputs": [],
   "source": [
    "# Vocal Style and Tone Transfering is the main goal of this prototype. \n",
    "# Here the idea is to proof the concept that if it's possible to adapt to a new kind of tone as well style just by \n",
    "# taking Swaravarnas from a differntly pronounced accent from a differnt person. \n"
   ]
  },
  {
   "cell_type": "code",
   "execution_count": null,
   "id": "3e450cbf",
   "metadata": {},
   "outputs": [],
   "source": [
    "# Here's how we will take do the project in order to proof the concept. j\n",
    "\n",
    "# 1. First record a sentence in a an accent. \n",
    "# 2. Pronounce all the differnet names in that accent. \n",
    "# 3. Crop all the Swaravarnas from those words for starting, middle and the end. \n",
    "# 4. And then use those Swaravarsnas to produce the sound. \n",
    "\n",
    "# We will be doing that for two different kind of accent and if that works very distinctively in two different right\n",
    "# way then, the concept will be proved. \n",
    "\n",
    "\n",
    "\n"
   ]
  }
 ],
 "metadata": {
  "kernelspec": {
   "display_name": "Python 3 (ipykernel)",
   "language": "python",
   "name": "python3"
  },
  "language_info": {
   "codemirror_mode": {
    "name": "ipython",
    "version": 3
   },
   "file_extension": ".py",
   "mimetype": "text/x-python",
   "name": "python",
   "nbconvert_exporter": "python",
   "pygments_lexer": "ipython3",
   "version": "3.8.10"
  }
 },
 "nbformat": 4,
 "nbformat_minor": 5
}
